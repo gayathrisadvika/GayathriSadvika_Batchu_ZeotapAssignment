{
 "cells": [
  {
   "cell_type": "code",
   "execution_count": 3,
   "id": "2fe30321-5976-433c-9b40-95815bab1715",
   "metadata": {},
   "outputs": [
    {
     "name": "stdout",
     "output_type": "stream",
     "text": [
      "Lookalike.csv generated successfully!\n",
      "\n",
      "  CustomerID Lookalike1  Score1 Lookalike2  Score2 Lookalike3  Score3\n",
      "0      C0001      C0107  0.9968      C0137  0.9961      C0184  0.9961\n",
      "1      C0002      C0088  0.9982      C0142  0.9943      C0159  0.9895\n",
      "2      C0003      C0147  0.9980      C0190  0.9973      C0174  0.9838\n",
      "3      C0004      C0113  0.9945      C0102  0.9804      C0169  0.9791\n",
      "4      C0005      C0186  0.9984      C0159  0.9980      C0140  0.9934\n"
     ]
    }
   ],
   "source": [
    "import pandas as pd\n",
    "import numpy as np\n",
    "from sklearn.preprocessing import StandardScaler, OneHotEncoder\n",
    "from sklearn.neighbors import NearestNeighbors\n",
    "\n",
    "# Load Data\n",
    "customers = pd.read_csv(\"Customers.csv\")\n",
    "products = pd.read_csv(\"Products.csv\")\n",
    "transactions = pd.read_csv(\"Transactions.csv\")\n",
    "\n",
    "# Merge transactions with products to get product categories\n",
    "transactions = transactions.merge(products, on=\"ProductID\")\n",
    "\n",
    "# Aggregate transaction data per customer\n",
    "customer_spending = transactions.groupby(\"CustomerID\").agg({\n",
    "    \"TotalValue\": \"sum\",\n",
    "    \"Quantity\": \"sum\"\n",
    "}).reset_index()\n",
    "\n",
    "# Merge with customer data\n",
    "customer_profiles = customers.merge(customer_spending, on=\"CustomerID\", how=\"left\").fillna(0)\n",
    "\n",
    "# One-Hot Encode Region\n",
    "encoder = OneHotEncoder()\n",
    "region_encoded = encoder.fit_transform(customer_profiles[[\"Region\"]]).toarray()\n",
    "region_df = pd.DataFrame(region_encoded, columns=encoder.get_feature_names_out([\"Region\"]))\n",
    "\n",
    "\n",
    "customer_profiles = pd.concat([customer_profiles, region_df], axis=1)\n",
    "customer_profiles.drop(columns=[\"CustomerName\", \"Region\", \"SignupDate\"], inplace=True)\n",
    "\n",
    "# Standardize Numeric Feature\n",
    "scaler = StandardScaler()\n",
    "scaled_features = scaler.fit_transform(customer_profiles.iloc[:, 1:])\n",
    "\n",
    "\n",
    "nbrs = NearestNeighbors(n_neighbors=4, metric=\"cosine\")  # 4 to include self\n",
    "nbrs.fit(scaled_features)\n",
    "\n",
    "def get_lookalikes(customer_id, top_n=3):\n",
    "    try:\n",
    "        idx = customer_profiles[customer_profiles[\"CustomerID\"] == customer_id].index[0]\n",
    "        distances, indices = nbrs.kneighbors([scaled_features[idx]])\n",
    "        similar_customers = [(customer_profiles.iloc[i][\"CustomerID\"], round(1 - distances[0][j], 4))\n",
    "                             for j, i in enumerate(indices[0]) if i != idx]\n",
    "        return similar_customers[:top_n]\n",
    "    except IndexError:\n",
    "        return []\n",
    "\n",
    "# Generate Lookalike.csv for first 20 customers\n",
    "lookalike_data = []\n",
    "for cust_id in customer_profiles[\"CustomerID\"].iloc[:20]:\n",
    "    lookalikes = get_lookalikes(cust_id)\n",
    "    row = [cust_id]\n",
    "    for lookalike in lookalikes:\n",
    "        row.extend(lookalike)\n",
    "    while len(row) < 7:\n",
    "        row.extend([\"N/A\", \"N/A\"])  # Fill missing values\n",
    "    lookalike_data.append(row)\n",
    "\n",
    "\n",
    "columns = [\"CustomerID\", \"Lookalike1\", \"Score1\", \"Lookalike2\", \"Score2\", \"Lookalike3\", \"Score3\"]\n",
    "lookalike_df = pd.DataFrame(lookalike_data, columns=columns)\n",
    "lookalike_df.to_csv(\"Lookalike.csv\", index=False)\n",
    "\n",
    "print(\"Lookalike.csv generated successfully!\\n\")\n",
    "print(lookalike_df.head())\n"
   ]
  },
  {
   "cell_type": "code",
   "execution_count": 5,
   "id": "c40c968f-11a5-477b-b6f3-d4c4e3c3ebc5",
   "metadata": {},
   "outputs": [
    {
     "name": "stdout",
     "output_type": "stream",
     "text": [
      "  CustomerID Lookalike1  Score1 Lookalike2  Score2 Lookalike3  Score3\n",
      "0      C0001      C0107  0.9968      C0137  0.9961      C0184  0.9961\n",
      "1      C0002      C0088  0.9982      C0142  0.9943      C0159  0.9895\n",
      "2      C0003      C0147  0.9980      C0190  0.9973      C0174  0.9838\n",
      "3      C0004      C0113  0.9945      C0102  0.9804      C0169  0.9791\n",
      "4      C0005      C0186  0.9984      C0159  0.9980      C0140  0.9934\n",
      "5      C0006      C0048  0.9941      C0126  0.9920      C0187  0.9912\n",
      "6      C0007      C0146  1.0000      C0177  0.9975      C0178  0.9974\n",
      "7      C0008      C0018  0.9848      C0122  0.9639      C0046  0.9577\n",
      "8      C0009      C0198  1.0000      C0014  0.9965      C0063  0.9939\n",
      "9      C0010      C0019  0.9911      C0073  0.9857      C0166  0.9836\n"
     ]
    }
   ],
   "source": [
    "import pandas as pd\n",
    "# Load and check the Lookalike.csv file\n",
    "df = pd.read_csv(\"Lookalike.csv\")\n",
    "print(df.head(10)) "
   ]
  },
  {
   "cell_type": "code",
   "execution_count": null,
   "id": "2a81cfa7-4587-4406-8cd1-97d6e77316f7",
   "metadata": {},
   "outputs": [],
   "source": []
  }
 ],
 "metadata": {
  "kernelspec": {
   "display_name": "Python 3 (ipykernel)",
   "language": "python",
   "name": "python3"
  },
  "language_info": {
   "codemirror_mode": {
    "name": "ipython",
    "version": 3
   },
   "file_extension": ".py",
   "mimetype": "text/x-python",
   "name": "python",
   "nbconvert_exporter": "python",
   "pygments_lexer": "ipython3",
   "version": "3.12.2"
  }
 },
 "nbformat": 4,
 "nbformat_minor": 5
}
